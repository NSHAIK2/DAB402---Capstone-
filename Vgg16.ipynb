{
 "cells": [
  {
   "cell_type": "markdown",
   "id": "498c02f1",
   "metadata": {},
   "source": [
    "# Model - VGG16"
   ]
  },
  {
   "cell_type": "markdown",
   "id": "f9af830a",
   "metadata": {},
   "source": [
    "## Importing Packages"
   ]
  },
  {
   "cell_type": "code",
   "execution_count": 1,
   "id": "d2632f62",
   "metadata": {
    "id": "d2632f62"
   },
   "outputs": [],
   "source": [
    "# Packages\n",
    "\n",
    "import keras,os # keras is used to include deep learning layers\n",
    "from keras.models import Sequential # any deep learning model is built begining with sequential model\n",
    "from keras.layers import Dense, Conv2D, MaxPool2D , Flatten # these layers are imprted from keras layers\n",
    "from keras.preprocessing.image import ImageDataGenerator # to load images from image generator\n",
    "import numpy as np # to handle numpy arrays\n",
    "import matplotlib.pyplot as plt # matplotlib is used to plot\n",
    "import cv2 # opencv is used to read and handle images\n",
    "from keras.preprocessing.image import load_img # used to load images from path\n",
    "from keras.preprocessing.image import img_to_array # used to convert images to arrays\n",
    "from keras.applications.vgg16 import preprocess_input # for any given input the values are processed as per vgg16 application\n",
    "from keras.applications.vgg16 import decode_predictions # from the predictions of vgg16 they are classified\n",
    "from keras.applications.vgg16 import VGG16 # this is used to access pre-trained VGG16 application from keras\n",
    "from pathlib import Path #used to handle paths\n",
    "import tensorflow as tf # tensorflow is used to build neural nets\n",
    "import pandas as pd # pandas is used to handle dataframes\n",
    "from progressbar import ProgressBar # progress bar helps us in showing us time taken for a task\n",
    "import warnings # any warnings displayed \n",
    "import tensorflow.keras as keras\n",
    "warnings.filterwarnings('ignore')\n",
    "progress = ProgressBar() \n",
    "\n",
    "# This definition is used to read images from the path and store them into a numpy array\n",
    "\n",
    "def load_images_from_folder(folder):\n",
    "    images = []\n",
    "    for filename in progress(os.listdir(folder)):\n",
    "        img = cv2.imread(os.path.join(folder,filename))\n",
    "        img = cv2.resize(img, (256, 256)) \n",
    "        if img is not None:\n",
    "            images.append(img)\n",
    "            \n",
    "    img = np.array(images)\n",
    "    # we are deleting unnecessary memory as its huge\n",
    "    del images\n",
    "    return img"
   ]
  },
  {
   "cell_type": "markdown",
   "id": "3b764ab7",
   "metadata": {},
   "source": [
    "## Data Loading"
   ]
  },
  {
   "cell_type": "code",
   "execution_count": 2,
   "id": "93b187d4",
   "metadata": {},
   "outputs": [
    {
     "name": "stderr",
     "output_type": "stream",
     "text": [
      "100% (18448 of 18448) |##################| Elapsed Time: 0:01:57 Time:  0:01:57\n"
     ]
    }
   ],
   "source": [
    "# calling the definition to store numpy array of images from the path\n",
    "crop = load_images_from_folder('data\\image\\cropped')"
   ]
  },
  {
   "cell_type": "code",
   "execution_count": 3,
   "id": "b431f70f",
   "metadata": {},
   "outputs": [
    {
     "name": "stdout",
     "output_type": "stream",
     "text": [
      "<class 'pandas.core.frame.DataFrame'>\n",
      "RangeIndex: 18448 entries, 0 to 18447\n",
      "Data columns (total 6 columns):\n",
      " #   Column        Non-Null Count  Dtype \n",
      "---  ------        --------------  ----- \n",
      " 0   File_no       18448 non-null  int64 \n",
      " 1   Source        18448 non-null  object\n",
      " 2   Catogery      18448 non-null  object\n",
      " 3   Processed     18448 non-null  object\n",
      " 4   Probe_Type    18448 non-null  object\n",
      " 5   Frame_number  18448 non-null  object\n",
      "dtypes: int64(1), object(5)\n",
      "memory usage: 864.9+ KB\n"
     ]
    },
    {
     "data": {
      "text/html": [
       "<div>\n",
       "<style scoped>\n",
       "    .dataframe tbody tr th:only-of-type {\n",
       "        vertical-align: middle;\n",
       "    }\n",
       "\n",
       "    .dataframe tbody tr th {\n",
       "        vertical-align: top;\n",
       "    }\n",
       "\n",
       "    .dataframe thead th {\n",
       "        text-align: right;\n",
       "    }\n",
       "</style>\n",
       "<table border=\"1\" class=\"dataframe\">\n",
       "  <thead>\n",
       "    <tr style=\"text-align: right;\">\n",
       "      <th></th>\n",
       "      <th>File_no</th>\n",
       "      <th>Source</th>\n",
       "      <th>Catogery</th>\n",
       "      <th>Processed</th>\n",
       "      <th>Probe_Type</th>\n",
       "      <th>Frame_number</th>\n",
       "    </tr>\n",
       "  </thead>\n",
       "  <tbody>\n",
       "    <tr>\n",
       "      <th>0</th>\n",
       "      <td>100</td>\n",
       "      <td>litfl</td>\n",
       "      <td>other</td>\n",
       "      <td>prc</td>\n",
       "      <td>convex</td>\n",
       "      <td>frame0</td>\n",
       "    </tr>\n",
       "    <tr>\n",
       "      <th>1</th>\n",
       "      <td>100</td>\n",
       "      <td>litfl</td>\n",
       "      <td>other</td>\n",
       "      <td>prc</td>\n",
       "      <td>convex</td>\n",
       "      <td>frame1</td>\n",
       "    </tr>\n",
       "    <tr>\n",
       "      <th>2</th>\n",
       "      <td>100</td>\n",
       "      <td>litfl</td>\n",
       "      <td>other</td>\n",
       "      <td>prc</td>\n",
       "      <td>convex</td>\n",
       "      <td>frame10</td>\n",
       "    </tr>\n",
       "    <tr>\n",
       "      <th>3</th>\n",
       "      <td>100</td>\n",
       "      <td>litfl</td>\n",
       "      <td>other</td>\n",
       "      <td>prc</td>\n",
       "      <td>convex</td>\n",
       "      <td>frame11</td>\n",
       "    </tr>\n",
       "    <tr>\n",
       "      <th>4</th>\n",
       "      <td>100</td>\n",
       "      <td>litfl</td>\n",
       "      <td>other</td>\n",
       "      <td>prc</td>\n",
       "      <td>convex</td>\n",
       "      <td>frame12</td>\n",
       "    </tr>\n",
       "  </tbody>\n",
       "</table>\n",
       "</div>"
      ],
      "text/plain": [
       "   File_no Source Catogery Processed Probe_Type Frame_number\n",
       "0      100  litfl    other       prc     convex       frame0\n",
       "1      100  litfl    other       prc     convex       frame1\n",
       "2      100  litfl    other       prc     convex      frame10\n",
       "3      100  litfl    other       prc     convex      frame11\n",
       "4      100  litfl    other       prc     convex      frame12"
      ]
     },
     "execution_count": 3,
     "metadata": {},
     "output_type": "execute_result"
    }
   ],
   "source": [
    "# this dataframe is used to help us with labels of each image\n",
    "df_clean = pd.read_csv(\"Covid_EDA_cropped.csv\")\n",
    "df_clean.info()\n",
    "df_clean.head()"
   ]
  },
  {
   "cell_type": "markdown",
   "id": "4cefeff6",
   "metadata": {},
   "source": [
    "## Converting Categorical Labels to Ordinal Labels"
   ]
  },
  {
   "cell_type": "code",
   "execution_count": 4,
   "id": "28986941",
   "metadata": {},
   "outputs": [],
   "source": [
    "# As labels are categorical data we are converting them to ordinal for ease of modelling and handling loss function\n",
    "labs = []\n",
    "for i in df_clean['Catogery']:\n",
    "    if i == 'covid':\n",
    "        labs.append(0)\n",
    "    if i == 'normal':\n",
    "        labs.append(1)\n",
    "        \n",
    "    if i =='other':\n",
    "        labs.append(2)\n",
    "    if i =='pneumonia':\n",
    "        labs.append(3)"
   ]
  },
  {
   "cell_type": "markdown",
   "id": "458fc53d",
   "metadata": {},
   "source": [
    "## Data Normalization"
   ]
  },
  {
   "cell_type": "code",
   "execution_count": 5,
   "id": "9b3476f3",
   "metadata": {
    "id": "9b3476f3"
   },
   "outputs": [],
   "source": [
    "# data normalization is used to get the RGB filters from scale 0-255 to 0-1, so that it is independent of scale and everything \n",
    "# is in unity\n",
    "crop = crop.astype('float32') / 255\n",
    "labs = np.array(labs)\n"
   ]
  },
  {
   "cell_type": "markdown",
   "id": "112043da",
   "metadata": {},
   "source": [
    "## Splitting Data to train and test sets"
   ]
  },
  {
   "cell_type": "code",
   "execution_count": 6,
   "id": "b61a2971",
   "metadata": {},
   "outputs": [],
   "source": [
    "# train test split package helps us in dividing the data into train and test sets\n",
    "\n",
    "from sklearn.model_selection import train_test_split\n",
    "\n",
    "# we are specifically using startify method as we have different proportions of data labels\n",
    "\n",
    "image_train, image_test, label_train, label_test = train_test_split(crop,labs,random_state=1, stratify=labs)"
   ]
  },
  {
   "cell_type": "markdown",
   "id": "923bc887",
   "metadata": {},
   "source": [
    "## Distribution of Data"
   ]
  },
  {
   "cell_type": "code",
   "execution_count": 7,
   "id": "13198f31",
   "metadata": {},
   "outputs": [
    {
     "data": {
      "image/png": "[encoded data removed]",
      "text/plain": [
       "<Figure size 432x288 with 1 Axes>"
      ]
     },
     "metadata": {
      "needs_background": "light"
     },
     "output_type": "display_data"
    }
   ],
   "source": [
    "plt.hist(labs)\n",
    "plt.show()"
   ]
  },
  {
   "cell_type": "code",
   "execution_count": 8,
   "id": "0b16e174",
   "metadata": {},
   "outputs": [
    {
     "data": {
      "image/png": "[encoded data removed]",
      "text/plain": [
       "<Figure size 432x288 with 1 Axes>"
      ]
     },
     "metadata": {
      "needs_background": "light"
     },
     "output_type": "display_data"
    }
   ],
   "source": [
    "plt.hist(label_train)\n",
    "plt.show()"
   ]
  },
  {
   "cell_type": "code",
   "execution_count": 9,
   "id": "0cd20441",
   "metadata": {},
   "outputs": [
    {
     "data": {
      "image/png": "[encoded data removed]",
      "text/plain": [
       "<Figure size 432x288 with 1 Axes>"
      ]
     },
     "metadata": {
      "needs_background": "light"
     },
     "output_type": "display_data"
    }
   ],
   "source": [
    "plt.hist(label_test)\n",
    "plt.show()"
   ]
  },
  {
   "attachments": {},
   "cell_type": "markdown",
   "id": "90b35238",
   "metadata": {},
   "source": [
    "#### Explanation:We have splitted the trainig data with 80% of images and testing data with 20% of images.\n",
    "\n",
    "#### Data Stratification maintains the same sample of data for all four category in both training and testing data.  - After splitting the data all class labels are similarly distributed:\n",
    "\n",
    "- Covid is indicated by “0”\n",
    "- Normal is indicated by “1”\n",
    "- Other is indicated by “2”\n",
    "- Pneumonia is indicated by “3”"
   ]
  },
  {
   "cell_type": "code",
   "execution_count": 10,
   "id": "c2e659c6",
   "metadata": {
    "colab": {
     "base_uri": "https://localhost:8080/"
    },
    "executionInfo": {
     "elapsed": 8,
     "status": "ok",
     "timestamp": 1649797248846,
     "user": {
      "displayName": "hulk rockz",
      "userId": "10248059286021262655"
     },
     "user_tz": 240
    },
    "id": "c2e659c6",
    "outputId": "d57aa04a-4d4b-418d-b8f1-1f5cc0573ac2"
   },
   "outputs": [
    {
     "name": "stdout",
     "output_type": "stream",
     "text": [
      "(13836, 256, 256, 3)\n",
      "13836\n"
     ]
    }
   ],
   "source": [
    "# veryfying the final shapes of the data\n",
    "print(image_train.shape)\n",
    "print(len(label_train))\n",
    "# removing unnecessary data to conserve memory\n",
    "del crop"
   ]
  },
  {
   "cell_type": "code",
   "execution_count": 11,
   "id": "06906d0a",
   "metadata": {},
   "outputs": [
    {
     "name": "stdout",
     "output_type": "stream",
     "text": [
      "(256, 256, 3)\n",
      "4612\n"
     ]
    }
   ],
   "source": [
    "# veryfying the final shapes of the data\n",
    "print(image_test[0].shape)\n",
    "print(len(label_test))"
   ]
  },
  {
   "cell_type": "markdown",
   "id": "a963f3f1",
   "metadata": {},
   "source": [
    "## Model Training"
   ]
  },
  {
   "cell_type": "code",
   "execution_count": 12,
   "id": "qrSyk1-18qev",
   "metadata": {
    "colab": {
     "base_uri": "https://localhost:8080/"
    },
    "executionInfo": {
     "elapsed": 146739,
     "status": "ok",
     "timestamp": 1649797395580,
     "user": {
      "displayName": "hulk rockz",
      "userId": "10248059286021262655"
     },
     "user_tz": 240
    },
    "id": "qrSyk1-18qev",
    "outputId": "62a864af-3577-4ba3-f775-3f9bb71d67d1",
    "scrolled": false
   },
   "outputs": [],
   "source": [
    "#Vgg16 model Training\n",
    "from keras.applications.vgg16 import VGG16\n",
    "\n",
    "base_model = VGG16(weights=\"imagenet\", include_top=False ,input_shape = (256,256,3)) # defining the VGG model with image parameters\n",
    "base_model.trainable = False ## Not trainable weights\n",
    "from tensorflow.keras import layers\n",
    "from tensorflow.keras.layers import Dense, Conv2D, MaxPooling2D, Dropout, Flatten, ZeroPadding2D # importing layers\n",
    "\n",
    "flatten_layer = layers.Flatten() # defining flatten layer\n",
    "dense_layer_1 = layers.Dense(32, activation='relu') # one dense layer with 32 neurons\n",
    "dense_layer_2 = layers.Dense(20, activation='relu') # another dense layer with 20 neurons\n",
    "prediction_layer = layers.Dense(4, activation='softmax') # 4 neurns for each class label and activation function of Softmax\n",
    "\n",
    "\n",
    "model_vgg = Sequential([ #defining a sequential model \n",
    "    base_model, # loading the base model\n",
    "    flatten_layer, # ten followed by a flatten layer\n",
    "    dense_layer_1, # then the first layer\n",
    "    dense_layer_2, # then the nxt layer \n",
    "    prediction_layer # the prediction or the output layer\n",
    "])\n",
    "\n",
    "# loading the data before compiling. So that, if the model is trained with new images the weights are updated respectively.\n",
    "model_vgg.load_weights('modelvgg_weights.h5')\n",
    "model_vgg.compile(\n",
    "    optimizer='adam', # adam optimizer is the best optimizer\n",
    "    loss='sparse_categorical_crossentropy', # as we have ordinal data, sparese categorical crossentropy works the best\n",
    "    metrics=['accuracy'],\n",
    ")\n",
    "\n",
    "\n",
    "# after repeated trial and errors training with 2000 images is the maximum capacity to reach without internal error\n",
    "# so for each training phase we use 2000 images at once with batch size of 5 and 5 epochs\n",
    "\n",
    "#hist = model_vgg.fit(image_train[:2000],label_train[:2000], epochs=5, verbose=1, batch_size=10)\n",
    "\n",
    "\n",
    "\n"
   ]
  },
  {
   "cell_type": "code",
   "execution_count": 9,
   "id": "d4e9c5ff",
   "metadata": {},
   "outputs": [
    {
     "name": "stdout",
     "output_type": "stream",
     "text": [
      "Epoch 1/5\n",
      "200/200 [==============================] - 135s 671ms/step - loss: 0.1431 - accuracy: 0.9510\n",
      "Epoch 2/5\n",
      "200/200 [==============================] - 131s 656ms/step - loss: 0.1697 - accuracy: 0.9369\n",
      "Epoch 3/5\n",
      "200/200 [==============================] - 131s 655ms/step - loss: 0.0536 - accuracy: 0.9820\n",
      "Epoch 4/5\n",
      "200/200 [==============================] - 131s 653ms/step - loss: 0.0478 - accuracy: 0.9780\n",
      "Epoch 5/5\n",
      "200/200 [==============================] - 131s 657ms/step - loss: 0.0557 - accuracy: 0.9780\n"
     ]
    }
   ],
   "source": [
    "hist = model_vgg.fit(image_train[2001:4000],label_train[2001:4000], epochs=5, verbose=1, batch_size=10)"
   ]
  },
  {
   "cell_type": "code",
   "execution_count": 62,
   "id": "abe84512",
   "metadata": {},
   "outputs": [],
   "source": [
    "# saving model for each best case\n",
    "\n",
    "model_vgg.save_weights('modelvgg_weights.h5')\n",
    "#model_vgg.load_weights('modelvgg_weights.h5')"
   ]
  },
  {
   "cell_type": "code",
   "execution_count": 27,
   "id": "a630f193",
   "metadata": {},
   "outputs": [
    {
     "name": "stdout",
     "output_type": "stream",
     "text": [
      "Epoch 1/5\n",
      "200/200 [==============================] - 118s 590ms/step - loss: 0.1064 - accuracy: 0.9620\n",
      "Epoch 2/5\n",
      "200/200 [==============================] - 118s 591ms/step - loss: 0.0381 - accuracy: 0.9790\n",
      "Epoch 3/5\n",
      "200/200 [==============================] - 118s 592ms/step - loss: 0.0334 - accuracy: 0.9820\n",
      "Epoch 4/5\n",
      "200/200 [==============================] - 120s 600ms/step - loss: 0.0342 - accuracy: 0.9800\n",
      "Epoch 5/5\n",
      "200/200 [==============================] - 122s 609ms/step - loss: 0.0274 - accuracy: 0.9850\n"
     ]
    }
   ],
   "source": [
    "hist = model_vgg.fit(image_train[4001:6000],label_train[4001:6000], epochs=5, verbose=1, batch_size=10)"
   ]
  },
  {
   "cell_type": "code",
   "execution_count": 29,
   "id": "e43288cc",
   "metadata": {},
   "outputs": [
    {
     "name": "stdout",
     "output_type": "stream",
     "text": [
      "Epoch 1/5\n",
      "200/200 [==============================] - 117s 585ms/step - loss: 0.0403 - accuracy: 0.9790\n",
      "Epoch 2/5\n",
      "200/200 [==============================] - 118s 590ms/step - loss: 0.0313 - accuracy: 0.9800\n",
      "Epoch 3/5\n",
      "200/200 [==============================] - 118s 592ms/step - loss: 0.0301 - accuracy: 0.9780\n",
      "Epoch 4/5\n",
      "200/200 [==============================] - 119s 594ms/step - loss: 0.0308 - accuracy: 0.9780\n",
      "Epoch 5/5\n",
      "200/200 [==============================] - 119s 593ms/step - loss: 0.2006 - accuracy: 0.9179\n"
     ]
    }
   ],
   "source": [
    "hist = model_vgg.fit(image_train[6001:8000],label_train[6001:8000], epochs=5, verbose=1, batch_size=10)"
   ]
  },
  {
   "cell_type": "code",
   "execution_count": 31,
   "id": "1b3d55da",
   "metadata": {},
   "outputs": [
    {
     "name": "stdout",
     "output_type": "stream",
     "text": [
      "Epoch 1/5\n",
      "200/200 [==============================] - 116s 582ms/step - loss: 0.0678 - accuracy: 0.9660\n",
      "Epoch 2/5\n",
      "200/200 [==============================] - 116s 581ms/step - loss: 0.0386 - accuracy: 0.9720\n",
      "Epoch 3/5\n",
      "200/200 [==============================] - 116s 580ms/step - loss: 0.0643 - accuracy: 0.9650\n",
      "Epoch 4/5\n",
      "200/200 [==============================] - 116s 581ms/step - loss: 0.0661 - accuracy: 0.9750\n",
      "Epoch 5/5\n",
      "200/200 [==============================] - 116s 582ms/step - loss: 0.0328 - accuracy: 0.9800\n"
     ]
    }
   ],
   "source": [
    "hist = model_vgg.fit(image_train[8001:10500],label_train[8001:10500], epochs=5, verbose=1, batch_size=10)"
   ]
  },
  {
   "cell_type": "code",
   "execution_count": 33,
   "id": "4f27855d",
   "metadata": {},
   "outputs": [
    {
     "name": "stdout",
     "output_type": "stream",
     "text": [
      "Epoch 1/5\n",
      "200/200 [==============================] - 116s 582ms/step - loss: 0.0352 - accuracy: 0.9760\n",
      "Epoch 2/5\n",
      "200/200 [==============================] - 116s 582ms/step - loss: 0.0338 - accuracy: 0.9740\n",
      "Epoch 3/5\n",
      "200/200 [==============================] - 116s 581ms/step - loss: 0.0328 - accuracy: 0.9790\n",
      "Epoch 4/5\n",
      "200/200 [==============================] - 116s 580ms/step - loss: 0.0327 - accuracy: 0.9740\n",
      "Epoch 5/5\n",
      "200/200 [==============================] - 116s 581ms/step - loss: 0.0323 - accuracy: 0.9820\n"
     ]
    }
   ],
   "source": [
    "hist = model_vgg.fit(image_train[10501:12000],label_train[10501:12000], epochs=5, verbose=1, batch_size=7)"
   ]
  },
  {
   "cell_type": "code",
   "execution_count": 61,
   "id": "3da71285",
   "metadata": {},
   "outputs": [
    {
     "name": "stdout",
     "output_type": "stream",
     "text": [
      "Epoch 1/5\n",
      "200/200 [==============================] - 22s 111ms/step - loss: 0.0339 - accuracy: 0.9770\n",
      "Epoch 2/5\n",
      "200/200 [==============================] - 22s 111ms/step - loss: 0.0258 - accuracy: 0.9810\n",
      "Epoch 3/5\n",
      "200/200 [==============================] - 22s 111ms/step - loss: 0.0267 - accuracy: 0.9760\n",
      "Epoch 4/5\n",
      "200/200 [==============================] - 22s 111ms/step - loss: 0.0259 - accuracy: 0.9810\n",
      "Epoch 5/5\n",
      "200/200 [==============================] - 22s 112ms/step - loss: 0.0251 - accuracy: 0.9840\n"
     ]
    }
   ],
   "source": [
    "hist = model_vgg.fit(image_train[12001:],label_train[12001:], epochs=5, verbose=1, batch_size=5)"
   ]
  },
  {
   "cell_type": "code",
   "execution_count": 17,
   "id": "201a917a",
   "metadata": {},
   "outputs": [],
   "source": [
    "ta = []\n",
    "s=0\n",
    "for i in range(10,13000,10):\n",
    "    row=model_vgg.predict(image_train[s:i])\n",
    "    s+=10\n",
    "    ta.append(row)"
   ]
  },
  {
   "cell_type": "code",
   "execution_count": 18,
   "id": "7dcfb100",
   "metadata": {},
   "outputs": [
    {
     "data": {
      "text/plain": [
       "(1299, 10, 4)"
      ]
     },
     "execution_count": 18,
     "metadata": {},
     "output_type": "execute_result"
    }
   ],
   "source": [
    "tan = np.asarray(ta)\n",
    "tan.shape"
   ]
  },
  {
   "cell_type": "code",
   "execution_count": 19,
   "id": "0c44b2c6",
   "metadata": {},
   "outputs": [],
   "source": [
    "\n",
    "tan=tan.reshape(12990,4)"
   ]
  },
  {
   "cell_type": "code",
   "execution_count": 20,
   "id": "47e85ebc",
   "metadata": {},
   "outputs": [],
   "source": [
    "y_pred = []\n",
    "for i in tan:\n",
    "    m = np.argmax(i)\n",
    "    y_pred.append(m)"
   ]
  },
  {
   "cell_type": "code",
   "execution_count": 22,
   "id": "f159c90e",
   "metadata": {},
   "outputs": [
    {
     "name": "stdout",
     "output_type": "stream",
     "text": [
      "              precision    recall  f1-score   support\n",
      "\n",
      "       Covid       1.00      1.00      1.00      2819\n",
      "      Normal       1.00      1.00      1.00      1557\n",
      "       Other       1.00      0.95      0.97      5589\n",
      "   pneumonia       0.92      1.00      0.96      3025\n",
      "\n",
      "    accuracy                           0.98     12990\n",
      "   macro avg       0.98      0.99      0.98     12990\n",
      "weighted avg       0.98      0.98      0.98     12990\n",
      "\n"
     ]
    }
   ],
   "source": [
    "from sklearn.metrics import classification_report\n",
    "print(classification_report(label_train[:12990], y_pred, target_names=[\"Covid\",\"Normal\",\"Other\",\"pneumonia\"]))"
   ]
  },
  {
   "cell_type": "code",
   "execution_count": 23,
   "id": "d76de64d",
   "metadata": {},
   "outputs": [
    {
     "data": {
      "image/png": "[encoded data removed]",
      "text/plain": [
       "<Figure size 432x288 with 2 Axes>"
      ]
     },
     "metadata": {
      "needs_background": "light"
     },
     "output_type": "display_data"
    }
   ],
   "source": [
    "from sklearn.metrics import confusion_matrix, ConfusionMatrixDisplay\n",
    "cm = confusion_matrix(label_train[:12990], y_pred, labels=[0,1,2,3])\n",
    "disp = ConfusionMatrixDisplay(confusion_matrix=cm,\n",
    "                               display_labels=[\"Covid\",\"Normal\",\"Other\",\"pneumonia\"])\n",
    "disp.plot()\n",
    "\n",
    "plt.show()"
   ]
  },
  {
   "cell_type": "markdown",
   "id": "2914ce54",
   "metadata": {},
   "source": [
    "##  Results"
   ]
  },
  {
   "cell_type": "markdown",
   "id": "4f29793b",
   "metadata": {},
   "source": [
    "### Final Train accuracy is 98.40%"
   ]
  },
  {
   "cell_type": "code",
   "execution_count": 17,
   "id": "a11f3268",
   "metadata": {},
   "outputs": [],
   "source": [
    "# While we have tried to compute all the test labels, resource exhaustion error is occured : i.e. gpu is unable to allocate\n",
    "# enough and this processs is not done using cpu\n",
    "\n",
    "# So, we have created a process where memory is allocated in batches of 10 so memory doesnt break \n",
    "\n",
    "ta = []\n",
    "s=0\n",
    "for i in range(10,4610,10):\n",
    "    row=model_vgg.predict(image_test[s:i])\n",
    "    s+=10\n",
    "    ta.append(row)"
   ]
  },
  {
   "cell_type": "code",
   "execution_count": 24,
   "id": "9829302f",
   "metadata": {},
   "outputs": [
    {
     "data": {
      "text/plain": [
       "(460, 10, 4)"
      ]
     },
     "execution_count": 24,
     "metadata": {},
     "output_type": "execute_result"
    }
   ],
   "source": [
    "\n",
    "tan = np.asarray(ta)\n",
    "tan.shape\n",
    "tan=tan.reshape(4600,4)"
   ]
  },
  {
   "cell_type": "code",
   "execution_count": 31,
   "id": "115fbc4c",
   "metadata": {},
   "outputs": [],
   "source": [
    "# the predicitons are probabilities of each class so, we have used argmax of each probabilty to conclude the final class\n",
    "y_pred = []\n",
    "for i in tan:\n",
    "    m = np.argmax(i)\n",
    "    y_pred.append(m)"
   ]
  },
  {
   "cell_type": "code",
   "execution_count": 33,
   "id": "8ecef8d3",
   "metadata": {},
   "outputs": [
    {
     "name": "stdout",
     "output_type": "stream",
     "text": [
      "              precision    recall  f1-score   support\n",
      "\n",
      "       Covid       1.00      1.00      1.00       998\n",
      "      Normal       1.00      1.00      1.00       548\n",
      "       Other       1.00      0.95      0.98      1980\n",
      "   pneumonia       0.92      1.00      0.96      1074\n",
      "\n",
      "    accuracy                           0.98      4600\n",
      "   macro avg       0.98      0.99      0.98      4600\n",
      "weighted avg       0.98      0.98      0.98      4600\n",
      "\n"
     ]
    }
   ],
   "source": [
    "# classifictaion report is used to understand the performance of model clearly for each class label\n",
    "\n",
    "from sklearn.metrics import classification_report\n",
    "print(classification_report(label_test[:4600], y_pred, target_names=[\"Covid\",\"Normal\",\"Other\",\"pneumonia\"]))"
   ]
  },
  {
   "cell_type": "markdown",
   "id": "66bf22bd",
   "metadata": {},
   "source": [
    "### Final test accuracy is 98%"
   ]
  },
  {
   "cell_type": "code",
   "execution_count": 36,
   "id": "65c74bb2",
   "metadata": {},
   "outputs": [
    {
     "data": {
      "image/png": "[encoded data removed]",
      "text/plain": [
       "<Figure size 432x288 with 2 Axes>"
      ]
     },
     "metadata": {
      "needs_background": "light"
     },
     "output_type": "display_data"
    }
   ],
   "source": [
    "# confusion matrix helps us understand the false probabilities \n",
    "\n",
    "from sklearn.metrics import confusion_matrix, ConfusionMatrixDisplay\n",
    "cm = confusion_matrix(label_test[:4600], y_pred, labels=[0,1,2,3])\n",
    "disp = ConfusionMatrixDisplay(confusion_matrix=cm,\n",
    "                               display_labels=[\"Covid\",\"Normal\",\"Other\",\"pneumonia\"])\n",
    "disp.plot()\n",
    "\n",
    "plt.show()"
   ]
  }
 ],
 "metadata": {
  "accelerator": "GPU",
  "colab": {
   "collapsed_sections": [],
   "name": "latest_Vgg16.ipynb",
   "provenance": []
  },
  "kernelspec": {
   "display_name": "Python 3",
   "language": "python",
   "name": "python3"
  },
  "language_info": {
   "codemirror_mode": {
    "name": "ipython",
    "version": 3
   },
   "file_extension": ".py",
   "mimetype": "text/x-python",
   "name": "python",
   "nbconvert_exporter": "python",
   "pygments_lexer": "ipython3",
   "version": "3.8.8"
  }
 },
 "nbformat": 4,
 "nbformat_minor": 5
}
