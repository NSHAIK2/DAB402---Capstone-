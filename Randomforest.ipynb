{
 "cells": [
  {
   "cell_type": "code",
   "execution_count": 1,
   "id": "d2632f62",
   "metadata": {
    "id": "d2632f62"
   },
   "outputs": [
    {
     "name": "stderr",
     "output_type": "stream",
     "text": [
      "C:\\Users\\HEMANTH\\anaconda3\\lib\\site-packages\\scipy\\__init__.py:146: UserWarning: A NumPy version >=1.16.5 and <1.23.0 is required for this version of SciPy (detected version 1.23.0\n",
      "  warnings.warn(f\"A NumPy version >={np_minversion} and <{np_maxversion}\"\n"
     ]
    }
   ],
   "source": [
    "# Importing Packages\n",
    "import keras,os # keras is used to include deep learning layers\n",
    "from keras.models import Sequential # any deep learning model is built begining with sequential model\n",
    "from keras.layers import Dense, Conv2D, MaxPool2D , Flatten # these layers are imprted from keras layers\n",
    "from keras.preprocessing.image import ImageDataGenerator # to load images from image generator\n",
    "import numpy as np # to handle numpy arrays\n",
    "import matplotlib.pyplot as plt # matplotlib is used to plot\n",
    "import cv2 # opencv is used to read and handle images\n",
    "from keras.preprocessing.image import load_img # used to load images from path\n",
    "from keras.preprocessing.image import img_to_array # used to convert images to arrays\n",
    "from keras.applications.vgg16 import preprocess_input # for any given input the values are processed as per vgg16 application\n",
    "from keras.applications.vgg16 import decode_predictions # from the predictions of vgg16 they are classified\n",
    "from keras.applications.vgg16 import VGG16 # this is used to access pre-trained VGG16 application from keras\n",
    "from pathlib import Path #used to handle paths\n",
    "import tensorflow as tf # tensorflow is used to build neural nets\n",
    "import pandas as pd # pandas is used to handle dataframes\n",
    "from progressbar import ProgressBar # progress bar helps us in showing us time taken for a task\n",
    "import warnings # any warnings displayed\n",
    "import tensorflow.keras as keras\n",
    "warnings.filterwarnings('ignore')\n",
    "progress = ProgressBar() \n",
    "\n",
    "# This definition is used to read images from the path and store them into a numpy array\n",
    "def load_images_from_folder(folder):\n",
    "    images = []\n",
    "    for filename in progress(os.listdir(folder)):\n",
    "        img = cv2.imread(os.path.join(folder,filename))\n",
    "        img = cv2.resize(img, (256, 256)) \n",
    "        if img is not None:\n",
    "            images.append(img)\n",
    "            \n",
    "    img = np.array(images)\n",
    "    # we are deleting unnecessary memory as its huge\n",
    "    del images\n",
    "    return img"
   ]
  },
  {
   "cell_type": "markdown",
   "id": "8272e2da",
   "metadata": {},
   "source": [
    "## Loading Data"
   ]
  },
  {
   "cell_type": "code",
   "execution_count": 2,
   "id": "93b187d4",
   "metadata": {},
   "outputs": [
    {
     "name": "stderr",
     "output_type": "stream",
     "text": [
      "100% (18448 of 18448) |##################| Elapsed Time: 0:01:10 Time:  0:01:10\n"
     ]
    }
   ],
   "source": [
    "# calling the definition to store numpy array of images from the path\n",
    "crop = load_images_from_folder('data\\image\\cropped')"
   ]
  },
  {
   "cell_type": "code",
   "execution_count": 3,
   "id": "b431f70f",
   "metadata": {},
   "outputs": [
    {
     "name": "stdout",
     "output_type": "stream",
     "text": [
      "<class 'pandas.core.frame.DataFrame'>\n",
      "RangeIndex: 18448 entries, 0 to 18447\n",
      "Data columns (total 6 columns):\n",
      " #   Column        Non-Null Count  Dtype \n",
      "---  ------        --------------  ----- \n",
      " 0   File_no       18448 non-null  int64 \n",
      " 1   Source        18448 non-null  object\n",
      " 2   Catogery      18448 non-null  object\n",
      " 3   Processed     18448 non-null  object\n",
      " 4   Probe_Type    18448 non-null  object\n",
      " 5   Frame_number  18448 non-null  object\n",
      "dtypes: int64(1), object(5)\n",
      "memory usage: 864.9+ KB\n"
     ]
    },
    {
     "data": {
      "text/html": [
       "<div>\n",
       "<style scoped>\n",
       "    .dataframe tbody tr th:only-of-type {\n",
       "        vertical-align: middle;\n",
       "    }\n",
       "\n",
       "    .dataframe tbody tr th {\n",
       "        vertical-align: top;\n",
       "    }\n",
       "\n",
       "    .dataframe thead th {\n",
       "        text-align: right;\n",
       "    }\n",
       "</style>\n",
       "<table border=\"1\" class=\"dataframe\">\n",
       "  <thead>\n",
       "    <tr style=\"text-align: right;\">\n",
       "      <th></th>\n",
       "      <th>File_no</th>\n",
       "      <th>Source</th>\n",
       "      <th>Catogery</th>\n",
       "      <th>Processed</th>\n",
       "      <th>Probe_Type</th>\n",
       "      <th>Frame_number</th>\n",
       "    </tr>\n",
       "  </thead>\n",
       "  <tbody>\n",
       "    <tr>\n",
       "      <th>0</th>\n",
       "      <td>100</td>\n",
       "      <td>litfl</td>\n",
       "      <td>other</td>\n",
       "      <td>prc</td>\n",
       "      <td>convex</td>\n",
       "      <td>frame0</td>\n",
       "    </tr>\n",
       "    <tr>\n",
       "      <th>1</th>\n",
       "      <td>100</td>\n",
       "      <td>litfl</td>\n",
       "      <td>other</td>\n",
       "      <td>prc</td>\n",
       "      <td>convex</td>\n",
       "      <td>frame1</td>\n",
       "    </tr>\n",
       "    <tr>\n",
       "      <th>2</th>\n",
       "      <td>100</td>\n",
       "      <td>litfl</td>\n",
       "      <td>other</td>\n",
       "      <td>prc</td>\n",
       "      <td>convex</td>\n",
       "      <td>frame10</td>\n",
       "    </tr>\n",
       "    <tr>\n",
       "      <th>3</th>\n",
       "      <td>100</td>\n",
       "      <td>litfl</td>\n",
       "      <td>other</td>\n",
       "      <td>prc</td>\n",
       "      <td>convex</td>\n",
       "      <td>frame11</td>\n",
       "    </tr>\n",
       "    <tr>\n",
       "      <th>4</th>\n",
       "      <td>100</td>\n",
       "      <td>litfl</td>\n",
       "      <td>other</td>\n",
       "      <td>prc</td>\n",
       "      <td>convex</td>\n",
       "      <td>frame12</td>\n",
       "    </tr>\n",
       "  </tbody>\n",
       "</table>\n",
       "</div>"
      ],
      "text/plain": [
       "   File_no Source Catogery Processed Probe_Type Frame_number\n",
       "0      100  litfl    other       prc     convex       frame0\n",
       "1      100  litfl    other       prc     convex       frame1\n",
       "2      100  litfl    other       prc     convex      frame10\n",
       "3      100  litfl    other       prc     convex      frame11\n",
       "4      100  litfl    other       prc     convex      frame12"
      ]
     },
     "execution_count": 3,
     "metadata": {},
     "output_type": "execute_result"
    }
   ],
   "source": [
    "# this dataframe is used to help us with labels of each image\n",
    "df_clean = pd.read_csv(\"Covid_EDA_cropped.csv\")\n",
    "df_clean.info()\n",
    "df_clean.head()"
   ]
  },
  {
   "cell_type": "markdown",
   "id": "326801a6",
   "metadata": {},
   "source": [
    "## Ordinal Encoding Labels"
   ]
  },
  {
   "cell_type": "code",
   "execution_count": 4,
   "id": "28986941",
   "metadata": {},
   "outputs": [],
   "source": [
    "# As labels are categorical data we are converting them to ordinal for ease of modelling and handling loss function\n",
    "labs = []\n",
    "for i in df_clean['Catogery']:\n",
    "    if i == 'covid':\n",
    "        labs.append(0)\n",
    "    if i == 'normal':\n",
    "        labs.append(1)\n",
    "        \n",
    "    if i =='other':\n",
    "        labs.append(2)\n",
    "    if i =='pneumonia':\n",
    "        labs.append(3)"
   ]
  },
  {
   "cell_type": "markdown",
   "id": "6030663e",
   "metadata": {},
   "source": [
    "## Normalizing Data"
   ]
  },
  {
   "cell_type": "code",
   "execution_count": 5,
   "id": "9b3476f3",
   "metadata": {
    "id": "9b3476f3"
   },
   "outputs": [],
   "source": [
    "# data normalization is used to get the RGB filters from scale 0-255 to 0-1, so that it is independent of scale and everything \n",
    "# is in unity\n",
    "crop = crop.astype('float32') / 255\n",
    "labs = np.array(labs)\n"
   ]
  },
  {
   "cell_type": "markdown",
   "id": "91d6bd3e",
   "metadata": {},
   "source": [
    "## Data Partitioning into Train and Test Splits"
   ]
  },
  {
   "cell_type": "code",
   "execution_count": 6,
   "id": "b61a2971",
   "metadata": {},
   "outputs": [],
   "source": [
    "# train test split package helps us in dividing the data into train and test sets\n",
    "from sklearn.model_selection import train_test_split\n",
    "\n",
    "# we are specifically using startify method as we have different proportions of data labels\n",
    "image_train, image_test, label_train, label_test = train_test_split(crop,labs,random_state=1, stratify=labs)"
   ]
  },
  {
   "cell_type": "markdown",
   "id": "bb481140",
   "metadata": {},
   "source": [
    "## Data Distribution"
   ]
  },
  {
   "cell_type": "code",
   "execution_count": 7,
   "id": "13198f31",
   "metadata": {},
   "outputs": [
    {
     "data": {
      "image/png": "[encoded data removed]",
      "text/plain": [
       "<Figure size 432x288 with 1 Axes>"
      ]
     },
     "metadata": {
      "needs_background": "light"
     },
     "output_type": "display_data"
    }
   ],
   "source": [
    "plt.hist(labs)\n",
    "plt.show()"
   ]
  },
  {
   "cell_type": "code",
   "execution_count": 8,
   "id": "0b16e174",
   "metadata": {},
   "outputs": [
    {
     "data": {
      "image/png": "[encoded data removed]",
      "text/plain": [
       "<Figure size 432x288 with 1 Axes>"
      ]
     },
     "metadata": {
      "needs_background": "light"
     },
     "output_type": "display_data"
    }
   ],
   "source": [
    "plt.hist(label_train)\n",
    "plt.show()"
   ]
  },
  {
   "cell_type": "code",
   "execution_count": 9,
   "id": "0cd20441",
   "metadata": {},
   "outputs": [
    {
     "data": {
      "image/png": "[encoded data removed]",
      "text/plain": [
       "<Figure size 432x288 with 1 Axes>"
      ]
     },
     "metadata": {
      "needs_background": "light"
     },
     "output_type": "display_data"
    }
   ],
   "source": [
    "plt.hist(label_test)\n",
    "plt.show()"
   ]
  },
  {
   "cell_type": "code",
   "execution_count": 10,
   "id": "c2e659c6",
   "metadata": {
    "colab": {
     "base_uri": "https://localhost:8080/"
    },
    "executionInfo": {
     "elapsed": 8,
     "status": "ok",
     "timestamp": 1649797248846,
     "user": {
      "displayName": "hulk rockz",
      "userId": "10248059286021262655"
     },
     "user_tz": 240
    },
    "id": "c2e659c6",
    "outputId": "d57aa04a-4d4b-418d-b8f1-1f5cc0573ac2"
   },
   "outputs": [
    {
     "name": "stdout",
     "output_type": "stream",
     "text": [
      "(13836, 256, 256, 3)\n",
      "13836\n"
     ]
    }
   ],
   "source": [
    "# veryfying the final shapes of the data\n",
    "print(image_train.shape)\n",
    "print(len(label_train))\n",
    "# removing unnecessary data to conserve memory\n",
    "del crop\n",
    "#image_train=image_train.reshape(840,1,256*256,3)"
   ]
  },
  {
   "cell_type": "code",
   "execution_count": 11,
   "id": "aae438f5",
   "metadata": {},
   "outputs": [
    {
     "name": "stdout",
     "output_type": "stream",
     "text": [
      "(4612, 256, 256, 3)\n"
     ]
    }
   ],
   "source": [
    "print(image_test.shape)"
   ]
  },
  {
   "cell_type": "markdown",
   "id": "a16b2792",
   "metadata": {},
   "source": [
    "## Reshaping array to 2D image to 1D"
   ]
  },
  {
   "cell_type": "code",
   "execution_count": 12,
   "id": "928bb224",
   "metadata": {},
   "outputs": [],
   "source": [
    "image_test=image_test.reshape(4612,1*256*256*3)"
   ]
  },
  {
   "cell_type": "code",
   "execution_count": 13,
   "id": "103efd9d",
   "metadata": {},
   "outputs": [
    {
     "name": "stdout",
     "output_type": "stream",
     "text": [
      "(4612, 196608)\n"
     ]
    }
   ],
   "source": [
    "print(image_test.shape)"
   ]
  },
  {
   "cell_type": "code",
   "execution_count": 16,
   "id": "6c9dd911",
   "metadata": {},
   "outputs": [],
   "source": [
    "image_train=image_train.reshape(13836,1*256*256*3)"
   ]
  },
  {
   "cell_type": "markdown",
   "id": "259da96e",
   "metadata": {},
   "source": [
    "## Data Training"
   ]
  },
  {
   "cell_type": "code",
   "execution_count": 17,
   "id": "a3aa57aa",
   "metadata": {},
   "outputs": [
    {
     "data": {
      "text/plain": [
       "RandomForestClassifier(random_state=0)"
      ]
     },
     "execution_count": 17,
     "metadata": {},
     "output_type": "execute_result"
    }
   ],
   "source": [
    "# RandomForest Classifier defintion as model\n",
    "from sklearn.ensemble import RandomForestClassifier\n",
    "from sklearn.datasets import make_classification\n",
    "clf = RandomForestClassifier(random_state=0)\n",
    "clf.fit(image_train, label_train)"
   ]
  },
  {
   "cell_type": "code",
   "execution_count": 18,
   "id": "9de4ee8b",
   "metadata": {},
   "outputs": [],
   "source": [
    "y_pred = clf.predict(image_train)"
   ]
  },
  {
   "cell_type": "markdown",
   "id": "05f28b6d",
   "metadata": {},
   "source": [
    "## Train results"
   ]
  },
  {
   "cell_type": "code",
   "execution_count": 19,
   "id": "6095705e",
   "metadata": {},
   "outputs": [
    {
     "name": "stdout",
     "output_type": "stream",
     "text": [
      "              precision    recall  f1-score   support\n",
      "\n",
      "       Covid       1.00      1.00      1.00      3002\n",
      "      Normal       1.00      1.00      1.00      1651\n",
      "       Other       0.98      0.98      0.98      5958\n",
      "   pneumonia       0.96      0.97      0.97      3225\n",
      "\n",
      "    accuracy                           0.98     13836\n",
      "   macro avg       0.99      0.99      0.99     13836\n",
      "weighted avg       0.98      0.98      0.98     13836\n",
      "\n"
     ]
    }
   ],
   "source": [
    "# Classification report the model performance\n",
    "from sklearn.metrics import classification_report\n",
    "print(classification_report(label_train, y_pred, target_names=[\"Covid\",\"Normal\",\"Other\",\"pneumonia\"]))"
   ]
  },
  {
   "cell_type": "code",
   "execution_count": 20,
   "id": "b2873438",
   "metadata": {},
   "outputs": [
    {
     "data": {
      "image/png": "[encoded data removed]",
      "text/plain": [
       "<Figure size 432x288 with 2 Axes>"
      ]
     },
     "metadata": {
      "needs_background": "light"
     },
     "output_type": "display_data"
    }
   ],
   "source": [
    "# Confusion matrix is used to understand the bias between class labels\n",
    "from sklearn.metrics import confusion_matrix, ConfusionMatrixDisplay\n",
    "cm = confusion_matrix(label_train, y_pred, labels=clf.classes_)\n",
    "disp = ConfusionMatrixDisplay(confusion_matrix=cm,\n",
    "                               display_labels=clf.classes_)\n",
    "disp.plot()\n",
    "\n",
    "plt.show()"
   ]
  },
  {
   "cell_type": "code",
   "execution_count": 21,
   "id": "bf804864",
   "metadata": {},
   "outputs": [],
   "source": [
    "y_pred = clf.predict(image_test)"
   ]
  },
  {
   "cell_type": "markdown",
   "id": "8434319f",
   "metadata": {},
   "source": [
    "## Test Results"
   ]
  },
  {
   "cell_type": "code",
   "execution_count": 22,
   "id": "35583e0e",
   "metadata": {},
   "outputs": [
    {
     "name": "stdout",
     "output_type": "stream",
     "text": [
      "              precision    recall  f1-score   support\n",
      "\n",
      "       Covid       1.00      1.00      1.00      1001\n",
      "      Normal       1.00      1.00      1.00       550\n",
      "       Other       0.96      0.96      0.96      1986\n",
      "   pneumonia       0.92      0.93      0.93      1075\n",
      "\n",
      "    accuracy                           0.97      4612\n",
      "   macro avg       0.97      0.97      0.97      4612\n",
      "weighted avg       0.97      0.97      0.97      4612\n",
      "\n"
     ]
    }
   ],
   "source": [
    "# Classification report the model performance\n",
    "from sklearn.metrics import classification_report\n",
    "print(classification_report(label_test, y_pred, target_names=[\"Covid\",\"Normal\",\"Other\",\"pneumonia\"]))"
   ]
  },
  {
   "cell_type": "code",
   "execution_count": 23,
   "id": "c26db156",
   "metadata": {},
   "outputs": [
    {
     "data": {
      "image/png": "[encoded data removed]",
      "text/plain": [
       "<Figure size 432x288 with 2 Axes>"
      ]
     },
     "metadata": {
      "needs_background": "light"
     },
     "output_type": "display_data"
    }
   ],
   "source": [
    "# Confusion matrix is used to understand the bias between class labels\n",
    "from sklearn.metrics import confusion_matrix, ConfusionMatrixDisplay\n",
    "cm = confusion_matrix(label_test, y_pred, labels=clf.classes_)\n",
    "disp = ConfusionMatrixDisplay(confusion_matrix=cm,\n",
    "                               display_labels=clf.classes_)\n",
    "disp.plot()\n",
    "\n",
    "plt.show()"
   ]
  },
  {
   "cell_type": "code",
   "execution_count": null,
   "id": "b43e5d16",
   "metadata": {},
   "outputs": [],
   "source": []
  },
  {
   "cell_type": "code",
   "execution_count": null,
   "id": "0298b032",
   "metadata": {},
   "outputs": [],
   "source": []
  }
 ],
 "metadata": {
  "accelerator": "GPU",
  "colab": {
   "collapsed_sections": [],
   "name": "latest_Vgg16.ipynb",
   "provenance": []
  },
  "kernelspec": {
   "display_name": "Python 3",
   "language": "python",
   "name": "python3"
  },
  "language_info": {
   "codemirror_mode": {
    "name": "ipython",
    "version": 3
   },
   "file_extension": ".py",
   "mimetype": "text/x-python",
   "name": "python",
   "nbconvert_exporter": "python",
   "pygments_lexer": "ipython3",
   "version": "3.8.8"
  }
 },
 "nbformat": 4,
 "nbformat_minor": 5
}
